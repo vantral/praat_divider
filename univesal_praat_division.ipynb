{
 "cells": [
  {
   "cell_type": "code",
   "execution_count": 1,
   "id": "f58893c4",
   "metadata": {},
   "outputs": [
    {
     "name": "stderr",
     "output_type": "stream",
     "text": [
      "C:\\Users\\User\\anaconda3\\lib\\site-packages\\pydub\\utils.py:170: RuntimeWarning: Couldn't find ffmpeg or avconv - defaulting to ffmpeg, but may not work\n",
      "  warn(\"Couldn't find ffmpeg or avconv - defaulting to ffmpeg, but may not work\", RuntimeWarning)\n"
     ]
    }
   ],
   "source": [
    "import textgrid\n",
    "import re\n",
    "from pydub import AudioSegment\n",
    "from pathlib import Path\n",
    "from sanitize_filename import sanitize\n",
    "from tqdm.notebook import tqdm\n",
    "from unicodedata import normalize\n",
    "from collections import defaultdict\n",
    "from typing import List"
   ]
  },
  {
   "cell_type": "code",
   "execution_count": 2,
   "id": "5e18d6b0",
   "metadata": {},
   "outputs": [],
   "source": [
    "def get_tier(textgrid: textgrid.textgrid.TextGrid, name: str) -> textgrid.textgrid.IntervalTier:\n",
    "    for tier in textgrid:\n",
    "        if tier.name == name:\n",
    "            return tier"
   ]
  },
  {
   "cell_type": "code",
   "execution_count": 3,
   "id": "3a26d665",
   "metadata": {},
   "outputs": [],
   "source": [
    "def zip_(\n",
    "    target_tier: textgrid.textgrid.IntervalTier,\n",
    "    tiers: List[textgrid.textgrid.IntervalTier],\n",
    "    skip_empty_targets=True\n",
    "):\n",
    "    zipped = []\n",
    "    \n",
    "    for interval in target_tier:\n",
    "        if not interval.mark and skip_empty_targets:\n",
    "            continue\n",
    "        prezipped = defaultdict(list)\n",
    "        for tier in tiers:\n",
    "            if tier == target_tier:\n",
    "                continue\n",
    "            for interval_ in tier:\n",
    "                if (\n",
    "                    (interval.minTime >= interval_.minTime\n",
    "                    and interval.maxTime <= interval_.maxTime)\n",
    "                    or (interval.minTime <= interval_.minTime\n",
    "                    and interval.maxTime >= interval_.maxTime)\n",
    "                ):\n",
    "                    prezipped[tier.name].append(interval_)\n",
    "        prezipped[target_tier.name].append(interval)\n",
    "        zipped.append(prezipped)\n",
    "    return zipped"
   ]
  },
  {
   "cell_type": "code",
   "execution_count": 4,
   "id": "4cffacaa",
   "metadata": {},
   "outputs": [],
   "source": [
    "def make_prefix(value: defaultdict):\n",
    "    prefix = ';'.join([f'{x} {\"@\".join([z.mark.strip() for z in y])}' for x, y in value.items()])\n",
    "    return prefix"
   ]
  },
  {
   "cell_type": "code",
   "execution_count": 5,
   "id": "b8422de7",
   "metadata": {},
   "outputs": [],
   "source": [
    "def divide(paths: List[Path], target_tier_name, folder_prefix='divided'):\n",
    "    for path in tqdm(paths):\n",
    "        Path(f'{folder_prefix}/' + path.name + '/sounds').mkdir(parents=True, exist_ok=True)\n",
    "        files = Path(path.name).iterdir()\n",
    "        wavs = [file for file in files if file.suffix == '.wav']\n",
    "        tgs = [Path(wav.with_suffix('.TextGrid')) for wav in wavs]\n",
    "        \n",
    "        for wav, tg in zip(wavs, tgs):\n",
    "            audio = AudioSegment.from_wav(wav)\n",
    "            tg = textgrid.TextGrid.fromFile(tg)\n",
    "            target_tier = get_tier(tg, target_tier_name)\n",
    "            tiers = tg.tiers\n",
    "\n",
    "            for tier_values in zip_(target_tier, tiers):\n",
    "                start = tier_values[target_tier_name][0].minTime * 1000 - 25\n",
    "                end = tier_values[target_tier_name][0].maxTime * 1000 + 25\n",
    "                \n",
    "                prefix = make_prefix(tier_values)\n",
    "                \n",
    "                prefix = sanitize(prefix.replace('̄', 'ː'))\n",
    "                n = 1\n",
    "                name = f'{folder_prefix}/{path.name}/sounds/{prefix};{wav.stem}_{n}.wav'.replace(':', 'ː')\n",
    "                while Path(normalize('NFC', name)).exists():\n",
    "                    n += 1\n",
    "                    name = f'{folder_prefix}/{path.name}/sounds/{prefix};{wav.stem}_{n}.wav'.replace(':', 'ː')\n",
    "                sound = audio[start:end]\n",
    "                sound.export(normalize('NFC', name), format='wav')"
   ]
  },
  {
   "cell_type": "code",
   "execution_count": 11,
   "id": "e2f766ee",
   "metadata": {},
   "outputs": [
    {
     "data": {
      "application/vnd.jupyter.widget-view+json": {
       "model_id": "0a356909ce5b48918d6304b962eb6f9e",
       "version_major": 2,
       "version_minor": 0
      },
      "text/plain": [
       "  0%|          | 0/1 [00:00<?, ?it/s]"
      ]
     },
     "metadata": {},
     "output_type": "display_data"
    }
   ],
   "source": [
    "divide([Path('sounds')], 'translation')\n",
    "# divide([Path('ue')], 'vowel')"
   ]
  }
 ],
 "metadata": {
  "kernelspec": {
   "display_name": "Python 3 (ipykernel)",
   "language": "python",
   "name": "python3"
  },
  "language_info": {
   "codemirror_mode": {
    "name": "ipython",
    "version": 3
   },
   "file_extension": ".py",
   "mimetype": "text/x-python",
   "name": "python",
   "nbconvert_exporter": "python",
   "pygments_lexer": "ipython3",
   "version": "3.10.9"
  }
 },
 "nbformat": 4,
 "nbformat_minor": 5
}
